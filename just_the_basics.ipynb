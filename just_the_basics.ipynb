{
 "cells": [
  {
   "cell_type": "markdown",
   "metadata": {},
   "source": [
    "Welcome to the world of coding! We'll show you how to get started. Follow along and ask for help whenever you need."
   ]
  },
  {
   "cell_type": "markdown",
   "metadata": {},
   "source": [
    "**The Print Statement**"
   ]
  },
  {
   "cell_type": "markdown",
   "metadata": {},
   "source": [
    "First we'll look at the print statement. Look at the line below to see how it works."
   ]
  },
  {
   "cell_type": "code",
   "execution_count": null,
   "metadata": {},
   "outputs": [],
   "source": [
    "print(\"Hello world!\")"
   ]
  },
  {
   "cell_type": "markdown",
   "metadata": {},
   "source": [
    "Whatever is between the (\"\") after the *print* will pop up on the screen. Go ahead and write your own statement to print. Do this by putting anything you want to print between the \"\". Once you have it typed, press the play button and watch it show up."
   ]
  },
  {
   "cell_type": "code",
   "execution_count": null,
   "metadata": {},
   "outputs": [],
   "source": []
  },
  {
   "cell_type": "markdown",
   "metadata": {},
   "source": [
    "**Variables**"
   ]
  },
  {
   "cell_type": "markdown",
   "metadata": {},
   "source": [
    "We use a thing called variables in coding. You can think of them as placeholders. See how they work below."
   ]
  },
  {
   "cell_type": "code",
   "execution_count": null,
   "metadata": {},
   "outputs": [],
   "source": [
    "variable = \"This is a variable\"\n",
    "print(variable)"
   ]
  },
  {
   "cell_type": "markdown",
   "metadata": {},
   "source": [
    "We used the = to say that the word variable is *equal to* the words \"This is a variable\". That way, instead of having to type out that sentence every time, you can just put *variable*"
   ]
  },
  {
   "cell_type": "markdown",
   "metadata": {},
   "source": [
    "Go ahead and make your own variable and print it."
   ]
  },
  {
   "cell_type": "code",
   "execution_count": null,
   "metadata": {},
   "outputs": [],
   "source": []
  },
  {
   "cell_type": "markdown",
   "metadata": {},
   "source": [
    "The variable you just created is called a String. A String is any text inside \"\". You can make other kinds of variables. Try to assign a correct value to the following integer, float, and boolean variables."
   ]
  },
  {
   "cell_type": "code",
   "execution_count": null,
   "metadata": {},
   "outputs": [],
   "source": [
    "integer_variable = \n",
    "float_variable = \n",
    "boolean_variable = "
   "source": [
    "Run this code to check the types of your variables!"
   ]
  },
  {
   "cell_type": "code",
   "execution_count": null,
   "metadata": {},
   "outputs": [],
   "source": [
    "res = \"\"\n",
    "if isinstance(integer_variable, int):\n",
    "    res += \"Your integer variable is correct! \"\n",
    "else\n",
    "    res += \"Your integer variable does not contain an integer. \"\n",
    "if isinstance(float_variable, float):\n",
    "    res += \"Your float variable is correct! \"\n",
    "else\n",
    "    res += \"Your float variable does not contain a float. \"\n",
    "if isinstance(boolean_variable, bool):\n",
    "    res += \"Your boolean variable is correct! \"\n",
    "else\n",
    "    res += \"Your boolean variable does not contain a boolean. \"\n",
    "print(res)"
   ]
   "source": []
  }
 ],
 "metadata": {
  "interpreter": {
   "hash": "86ba12af8c92082f9a01e1b90654f6f416baf3db58f85b5ae7d4af2bb3430c23"
  },
  "kernelspec": {
   "display_name": "Python 3.10.0 ('p310')",
   "language": "python",
   "name": "python3"
  },
  "language_info": {
   "name": "python",
   "version": "3.10.0"
  },
  "orig_nbformat": 4
 },
 "nbformat": 4,
 "nbformat_minor": 2
}
